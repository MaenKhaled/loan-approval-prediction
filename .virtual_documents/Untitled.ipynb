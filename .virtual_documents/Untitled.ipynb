import pandas as pd
df = pd.read_csv('/Users/souadmouajel/Desktop/Ironhack/lab-sessions/week-7/loan-approval-prediction/data/raw/loan_approval_dataset.csv')
df.head()


df.info()


df.columns


df.columns = (
    df.columns
    .str.strip()              # remove leading/trailing spaces
    .str.replace(' ', '_')    # replace spaces with underscores
    .str.lower()              # make all lowercase (optional)
)


df.columns


# Understanding the traget column loan_status:
df['loan_status'].value_counts(dropna=False)



# Check for null values in the dataframe
df.isnull().sum()



df.info()


df.loan_status.unique()


# Cleane the inputs of the categorical columns, education, self_employed, loan_status:
# List of columns to clean
cat_cols = ['education', 'self_employed', 'loan_status']

# Strip spaces and lowercase values
for col in cat_cols:
    df[col] = df[col].str.strip().str.lower()



df.education.unique()


# Clean the values of the education columns to replace the space " " with dashes "-"
df['education'] = df['education'].str.strip().str.lower().str.replace(' ', '-', regex=False)


df.education.unique()


# Export cleaned DataFrame to CSV
df.to_csv('cleaned_loan_data.csv', index=False)




