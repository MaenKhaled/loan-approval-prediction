import pandas as pd
df = pd.read_csv('/Users/souadmouajel/Desktop/Ironhack/lab-sessions/week-7/loan-approval-prediction/data/clean/cleaned_loan_data.csv')
df.head()


# Define the numerical columns in order to prepare them for outliers detiction
num_cols = df.select_dtypes(include='number').columns.tolist()
# Then remove 'loan_id' from that list, if it exists
if 'loan_id' in num_cols:
    num_cols.remove('loan_id')

print(num_cols)


# Outliers detiction 
import matplotlib.pyplot as plt
import seaborn as sns

# Set up boxplots for all numerical columns
plt.figure(figsize=(15, 10))
for i, col in enumerate(num_cols):
    plt.subplot((len(num_cols) + 2) // 3, 3, i + 1)
    sns.boxplot(x=df[col])
    plt.title(col)
    plt.tight_layout()
plt.show()




df.info()


df.loan_amount.describe()


import matplotlib.pyplot as plt
import seaborn as sns

num_cols = df.select_dtypes(include='number').columns.tolist()
# Then remove 'loan_id' from that list, if it exists
if 'loan_id' in num_cols:
    num_cols.remove('loan_id')

plt.figure(figsize=(15, 10))

for i, col in enumerate(num_cols):
    plt.subplot((len(num_cols) + 2) // 3, 3, i + 1)  # arrange plots in rows of 3
    sns.histplot(df[col], bins=30, kde=True)
    plt.title(f'Histogram of {col}')
    plt.tight_layout()

plt.show()



df.info()


import seaborn as sns
sns.scatterplot(x='income_annum', y='loan_amount', data=df)



sns.scatterplot(x=df.index, y='loan_amount', data=df)


sns.histplot(df['cibil_score'], bins=30, kde=True)



df.loan_id.head(50)



