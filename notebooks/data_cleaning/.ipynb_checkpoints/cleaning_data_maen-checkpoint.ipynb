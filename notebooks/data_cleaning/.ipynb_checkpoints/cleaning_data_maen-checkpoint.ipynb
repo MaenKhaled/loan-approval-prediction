{
 "cells": [
  {
   "cell_type": "code",
   "execution_count": null,
   "id": "2475fa46-8893-41fc-9f08-2d572b9405da",
   "metadata": {},
   "outputs": [],
   "source": [
    "import pandas as pd\n",
    "df = pd.read_csv('/Users/souadmouajel/Desktop/Ironhack/lab-sessions/week-7/loan-approval-prediction/data/raw/loan_approval_dataset.csv')\n",
    "df.head()"
   ]
  },
  {
   "cell_type": "code",
   "execution_count": null,
   "id": "176679d7-38a8-4627-8f57-f21f64c31b57",
   "metadata": {},
   "outputs": [],
   "source": [
    "df.info()"
   ]
  },
  {
   "cell_type": "code",
   "execution_count": null,
   "id": "a46c53e7-cc6d-4677-865c-e271b354f54f",
   "metadata": {},
   "outputs": [],
   "source": [
    "df.columns"
   ]
  },
  {
   "cell_type": "code",
   "execution_count": null,
   "id": "e460d079-ba3a-4206-986f-d0c02b516471",
   "metadata": {},
   "outputs": [],
   "source": [
    "df.columns = (\n",
    "    df.columns\n",
    "    .str.strip()              # remove leading/trailing spaces\n",
    "    .str.replace(' ', '_')    # replace spaces with underscores\n",
    "    .str.lower()              # make all lowercase (optional)\n",
    ")"
   ]
  },
  {
   "cell_type": "code",
   "execution_count": null,
   "id": "6884e496-e6a0-4153-bbe3-c92c9fd5c073",
   "metadata": {},
   "outputs": [],
   "source": [
    "df.columns"
   ]
  },
  {
   "cell_type": "code",
   "execution_count": null,
   "id": "f6835677-d83b-43bf-91a4-1f33cabeb239",
   "metadata": {},
   "outputs": [],
   "source": [
    "# Understanding the traget column loan_status:\n",
    "df['loan_status'].value_counts(dropna=False)\n"
   ]
  },
  {
   "cell_type": "code",
   "execution_count": null,
   "id": "19a464ee-88d4-4fe7-9184-f3a7ad679992",
   "metadata": {},
   "outputs": [],
   "source": [
    "# Check for null values in the dataframe\n",
    "df.isnull().sum()\n"
   ]
  },
  {
   "cell_type": "code",
   "execution_count": null,
   "id": "22058b1a-71a8-4d6a-b7b2-174cb6893d67",
   "metadata": {},
   "outputs": [],
   "source": [
    "df.info()"
   ]
  },
  {
   "cell_type": "code",
   "execution_count": null,
   "id": "fe510d14-6515-4744-8e5d-dec9c21b2091",
   "metadata": {},
   "outputs": [],
   "source": [
    "df.loan_status.unique()"
   ]
  },
  {
   "cell_type": "code",
   "execution_count": null,
   "id": "009e5c1c-fed7-4094-bb18-0d7603b4964f",
   "metadata": {},
   "outputs": [],
   "source": [
    "# Cleane the inputs of the categorical columns, education, self_employed, loan_status:\n",
    "# List of columns to clean\n",
    "cat_cols = ['education', 'self_employed', 'loan_status']\n",
    "\n",
    "# Strip spaces and lowercase values\n",
    "for col in cat_cols:\n",
    "    df[col] = df[col].str.strip().str.lower()\n"
   ]
  },
  {
   "cell_type": "code",
   "execution_count": null,
   "id": "d4697a59-1734-46cc-b997-95cfb2d35f4e",
   "metadata": {},
   "outputs": [],
   "source": [
    "df.education.unique()"
   ]
  },
  {
   "cell_type": "code",
   "execution_count": null,
   "id": "e4075c1c-9b30-4b28-bbd8-034caa9e78a7",
   "metadata": {},
   "outputs": [],
   "source": [
    "# Clean the values of the education columns to replace the space \" \" with dashes \"-\"\n",
    "df['education'] = df['education'].str.strip().str.lower().str.replace(' ', '-', regex=False)"
   ]
  },
  {
   "cell_type": "code",
   "execution_count": null,
   "id": "3bc8012b-2d69-4346-a717-25e208f00d15",
   "metadata": {},
   "outputs": [],
   "source": [
    "df.education.unique()"
   ]
  },
  {
   "cell_type": "code",
   "execution_count": null,
   "id": "3a9c2054-3820-4c38-a659-124511569b9e",
   "metadata": {},
   "outputs": [],
   "source": [
    "# Export cleaned DataFrame to CSV\n",
    "df.to_csv('cleaned_loan_data.csv', index=False)\n"
   ]
  },
  {
   "cell_type": "code",
   "execution_count": null,
   "id": "34e21691-bb40-4bd1-ad04-c62bde237d48",
   "metadata": {},
   "outputs": [],
   "source": []
  }
 ],
 "metadata": {
  "kernelspec": {
   "display_name": "Python [conda env:base] *",
   "language": "python",
   "name": "conda-base-py"
  },
  "language_info": {
   "codemirror_mode": {
    "name": "ipython",
    "version": 3
   },
   "file_extension": ".py",
   "mimetype": "text/x-python",
   "name": "python",
   "nbconvert_exporter": "python",
   "pygments_lexer": "ipython3",
   "version": "3.12.7"
  }
 },
 "nbformat": 4,
 "nbformat_minor": 5
}
