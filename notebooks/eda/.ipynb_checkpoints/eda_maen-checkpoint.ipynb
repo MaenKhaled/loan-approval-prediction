{
 "cells": [
  {
   "cell_type": "code",
   "execution_count": null,
   "id": "3d2513c1-42f1-40a5-a6c0-5f444daf4520",
   "metadata": {},
   "outputs": [],
   "source": [
    "import pandas as pd\n",
    "df = pd.read_csv('/Users/souadmouajel/Desktop/Ironhack/lab-sessions/week-7/loan-approval-prediction/data/clean/cleaned_loan_data.csv')\n",
    "df.head()"
   ]
  },
  {
   "cell_type": "code",
   "execution_count": null,
   "id": "9fdcff78-7b48-4d76-b564-008cc328889e",
   "metadata": {},
   "outputs": [],
   "source": [
    "# Define the numerical columns in order to prepare them for outliers detiction\n",
    "num_cols = df.select_dtypes(include='number').columns.tolist()\n",
    "# Then remove 'loan_id' from that list, if it exists\n",
    "if 'loan_id' in num_cols:\n",
    "    num_cols.remove('loan_id')\n",
    "\n",
    "print(num_cols)"
   ]
  },
  {
   "cell_type": "code",
   "execution_count": null,
   "id": "ed6fed4d-1195-4a4a-bab7-4bee01331ef2",
   "metadata": {},
   "outputs": [],
   "source": [
    "# Outliers detiction \n",
    "import matplotlib.pyplot as plt\n",
    "import seaborn as sns\n",
    "\n",
    "# Set up boxplots for all numerical columns\n",
    "plt.figure(figsize=(15, 10))\n",
    "for i, col in enumerate(num_cols):\n",
    "    plt.subplot((len(num_cols) + 2) // 3, 3, i + 1)\n",
    "    sns.boxplot(x=df[col])\n",
    "    plt.title(col)\n",
    "    plt.tight_layout()\n",
    "plt.show()\n",
    "\n"
   ]
  },
  {
   "cell_type": "code",
   "execution_count": null,
   "id": "bb696411-ba37-424d-884b-98fdf923d997",
   "metadata": {},
   "outputs": [],
   "source": [
    "df.info()"
   ]
  },
  {
   "cell_type": "code",
   "execution_count": null,
   "id": "c2a827a4-fde5-42fe-8f9c-049d73188287",
   "metadata": {},
   "outputs": [],
   "source": [
    "df.loan_amount.describe()"
   ]
  },
  {
   "cell_type": "code",
   "execution_count": null,
   "id": "647c73c0-881b-49cc-bc0c-1ff6b2e8ccca",
   "metadata": {},
   "outputs": [],
   "source": [
    "import matplotlib.pyplot as plt\n",
    "import seaborn as sns\n",
    "\n",
    "num_cols = df.select_dtypes(include='number').columns.tolist()\n",
    "# Then remove 'loan_id' from that list, if it exists\n",
    "if 'loan_id' in num_cols:\n",
    "    num_cols.remove('loan_id')\n",
    "\n",
    "plt.figure(figsize=(15, 10))\n",
    "\n",
    "for i, col in enumerate(num_cols):\n",
    "    plt.subplot((len(num_cols) + 2) // 3, 3, i + 1)  # arrange plots in rows of 3\n",
    "    sns.histplot(df[col], bins=30, kde=True)\n",
    "    plt.title(f'Histogram of {col}')\n",
    "    plt.tight_layout()\n",
    "\n",
    "plt.show()\n"
   ]
  },
  {
   "cell_type": "code",
   "execution_count": null,
   "id": "5592eea7-c1a9-46a7-8536-7253a9cb4306",
   "metadata": {},
   "outputs": [],
   "source": [
    "df.info()"
   ]
  },
  {
   "cell_type": "code",
   "execution_count": null,
   "id": "db872e19-0d23-4459-afb7-9f28f686d528",
   "metadata": {},
   "outputs": [],
   "source": [
    "import seaborn as sns\n",
    "sns.scatterplot(x='income_annum', y='loan_amount', data=df)\n"
   ]
  },
  {
   "cell_type": "code",
   "execution_count": null,
   "id": "983c82cd-8163-47a6-8be1-1ee122792805",
   "metadata": {},
   "outputs": [],
   "source": [
    "sns.scatterplot(x=df.index, y='loan_amount', data=df)"
   ]
  },
  {
   "cell_type": "code",
   "execution_count": null,
   "id": "f2359aa8-6ab4-4452-b1e6-0632ba136b54",
   "metadata": {},
   "outputs": [],
   "source": [
    "sns.histplot(df['cibil_score'], bins=30, kde=True)\n"
   ]
  },
  {
   "cell_type": "code",
   "execution_count": null,
   "id": "b2cca362-612f-49fa-924f-616073716a5b",
   "metadata": {},
   "outputs": [],
   "source": []
  }
 ],
 "metadata": {
  "kernelspec": {
   "display_name": "Python [conda env:base] *",
   "language": "python",
   "name": "conda-base-py"
  },
  "language_info": {
   "codemirror_mode": {
    "name": "ipython",
    "version": 3
   },
   "file_extension": ".py",
   "mimetype": "text/x-python",
   "name": "python",
   "nbconvert_exporter": "python",
   "pygments_lexer": "ipython3",
   "version": "3.12.7"
  }
 },
 "nbformat": 4,
 "nbformat_minor": 5
}
