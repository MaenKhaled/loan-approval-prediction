{
 "cells": [
  {
   "cell_type": "code",
   "execution_count": 1,
   "id": "e08369d5-8d70-49f8-8812-5b263e1e9c57",
   "metadata": {},
   "outputs": [],
   "source": [
    "#DATA CLEANING\n",
    "import pandas as pd\n",
    "df = pd.read_csv(\"loan_approval_dataset.csv\")"
   ]
  },
  {
   "cell_type": "code",
   "execution_count": 2,
   "id": "aaca974f-8d93-4e02-a6ca-5824d500cb6c",
   "metadata": {},
   "outputs": [
    {
     "data": {
      "text/html": [
       "<div>\n",
       "<style scoped>\n",
       "    .dataframe tbody tr th:only-of-type {\n",
       "        vertical-align: middle;\n",
       "    }\n",
       "\n",
       "    .dataframe tbody tr th {\n",
       "        vertical-align: top;\n",
       "    }\n",
       "\n",
       "    .dataframe thead th {\n",
       "        text-align: right;\n",
       "    }\n",
       "</style>\n",
       "<table border=\"1\" class=\"dataframe\">\n",
       "  <thead>\n",
       "    <tr style=\"text-align: right;\">\n",
       "      <th></th>\n",
       "      <th>loan_id</th>\n",
       "      <th>no_of_dependents</th>\n",
       "      <th>education</th>\n",
       "      <th>self_employed</th>\n",
       "      <th>income_annum</th>\n",
       "      <th>loan_amount</th>\n",
       "      <th>loan_term</th>\n",
       "      <th>cibil_score</th>\n",
       "      <th>residential_assets_value</th>\n",
       "      <th>commercial_assets_value</th>\n",
       "      <th>luxury_assets_value</th>\n",
       "      <th>bank_asset_value</th>\n",
       "      <th>loan_status</th>\n",
       "    </tr>\n",
       "  </thead>\n",
       "  <tbody>\n",
       "    <tr>\n",
       "      <th>0</th>\n",
       "      <td>1</td>\n",
       "      <td>2</td>\n",
       "      <td>Graduate</td>\n",
       "      <td>No</td>\n",
       "      <td>9600000</td>\n",
       "      <td>29900000</td>\n",
       "      <td>12</td>\n",
       "      <td>778</td>\n",
       "      <td>2400000</td>\n",
       "      <td>17600000</td>\n",
       "      <td>22700000</td>\n",
       "      <td>8000000</td>\n",
       "      <td>Approved</td>\n",
       "    </tr>\n",
       "    <tr>\n",
       "      <th>1</th>\n",
       "      <td>2</td>\n",
       "      <td>0</td>\n",
       "      <td>Not Graduate</td>\n",
       "      <td>Yes</td>\n",
       "      <td>4100000</td>\n",
       "      <td>12200000</td>\n",
       "      <td>8</td>\n",
       "      <td>417</td>\n",
       "      <td>2700000</td>\n",
       "      <td>2200000</td>\n",
       "      <td>8800000</td>\n",
       "      <td>3300000</td>\n",
       "      <td>Rejected</td>\n",
       "    </tr>\n",
       "    <tr>\n",
       "      <th>2</th>\n",
       "      <td>3</td>\n",
       "      <td>3</td>\n",
       "      <td>Graduate</td>\n",
       "      <td>No</td>\n",
       "      <td>9100000</td>\n",
       "      <td>29700000</td>\n",
       "      <td>20</td>\n",
       "      <td>506</td>\n",
       "      <td>7100000</td>\n",
       "      <td>4500000</td>\n",
       "      <td>33300000</td>\n",
       "      <td>12800000</td>\n",
       "      <td>Rejected</td>\n",
       "    </tr>\n",
       "    <tr>\n",
       "      <th>3</th>\n",
       "      <td>4</td>\n",
       "      <td>3</td>\n",
       "      <td>Graduate</td>\n",
       "      <td>No</td>\n",
       "      <td>8200000</td>\n",
       "      <td>30700000</td>\n",
       "      <td>8</td>\n",
       "      <td>467</td>\n",
       "      <td>18200000</td>\n",
       "      <td>3300000</td>\n",
       "      <td>23300000</td>\n",
       "      <td>7900000</td>\n",
       "      <td>Rejected</td>\n",
       "    </tr>\n",
       "    <tr>\n",
       "      <th>4</th>\n",
       "      <td>5</td>\n",
       "      <td>5</td>\n",
       "      <td>Not Graduate</td>\n",
       "      <td>Yes</td>\n",
       "      <td>9800000</td>\n",
       "      <td>24200000</td>\n",
       "      <td>20</td>\n",
       "      <td>382</td>\n",
       "      <td>12400000</td>\n",
       "      <td>8200000</td>\n",
       "      <td>29400000</td>\n",
       "      <td>5000000</td>\n",
       "      <td>Rejected</td>\n",
       "    </tr>\n",
       "  </tbody>\n",
       "</table>\n",
       "</div>"
      ],
      "text/plain": [
       "   loan_id   no_of_dependents      education  self_employed   income_annum  \\\n",
       "0        1                  2       Graduate             No        9600000   \n",
       "1        2                  0   Not Graduate            Yes        4100000   \n",
       "2        3                  3       Graduate             No        9100000   \n",
       "3        4                  3       Graduate             No        8200000   \n",
       "4        5                  5   Not Graduate            Yes        9800000   \n",
       "\n",
       "    loan_amount   loan_term   cibil_score   residential_assets_value  \\\n",
       "0      29900000          12           778                    2400000   \n",
       "1      12200000           8           417                    2700000   \n",
       "2      29700000          20           506                    7100000   \n",
       "3      30700000           8           467                   18200000   \n",
       "4      24200000          20           382                   12400000   \n",
       "\n",
       "    commercial_assets_value   luxury_assets_value   bank_asset_value  \\\n",
       "0                  17600000              22700000            8000000   \n",
       "1                   2200000               8800000            3300000   \n",
       "2                   4500000              33300000           12800000   \n",
       "3                   3300000              23300000            7900000   \n",
       "4                   8200000              29400000            5000000   \n",
       "\n",
       "   loan_status  \n",
       "0     Approved  \n",
       "1     Rejected  \n",
       "2     Rejected  \n",
       "3     Rejected  \n",
       "4     Rejected  "
      ]
     },
     "execution_count": 2,
     "metadata": {},
     "output_type": "execute_result"
    }
   ],
   "source": [
    "df.head()"
   ]
  },
  {
   "cell_type": "code",
   "execution_count": 3,
   "id": "4a30aaa8-c260-4fd0-8c8d-81af366d7bd2",
   "metadata": {},
   "outputs": [
    {
     "name": "stdout",
     "output_type": "stream",
     "text": [
      "Original dataframe shape (4269, 13)\n"
     ]
    }
   ],
   "source": [
    "print(\"Original dataframe shape\",df.shape)"
   ]
  },
  {
   "cell_type": "code",
   "execution_count": 4,
   "id": "e1652b52-cc5a-4590-a69d-a78187f506bf",
   "metadata": {},
   "outputs": [
    {
     "name": "stdout",
     "output_type": "stream",
     "text": [
      "Data types:\n",
      " loan_id                       int64\n",
      " no_of_dependents             int64\n",
      " education                   object\n",
      " self_employed               object\n",
      " income_annum                 int64\n",
      " loan_amount                  int64\n",
      " loan_term                    int64\n",
      " cibil_score                  int64\n",
      " residential_assets_value     int64\n",
      " commercial_assets_value      int64\n",
      " luxury_assets_value          int64\n",
      " bank_asset_value             int64\n",
      " loan_status                 object\n",
      "dtype: object\n"
     ]
    }
   ],
   "source": [
    "print(\"Data types:\\n\", df.dtypes)"
   ]
  },
  {
   "cell_type": "code",
   "execution_count": 5,
   "id": "98cc8ad3-1ab6-4576-b4ca-b68ae883f222",
   "metadata": {},
   "outputs": [
    {
     "data": {
      "text/plain": [
       "loan_id                      0\n",
       " no_of_dependents            0\n",
       " education                   0\n",
       " self_employed               0\n",
       " income_annum                0\n",
       " loan_amount                 0\n",
       " loan_term                   0\n",
       " cibil_score                 0\n",
       " residential_assets_value    0\n",
       " commercial_assets_value     0\n",
       " luxury_assets_value         0\n",
       " bank_asset_value            0\n",
       " loan_status                 0\n",
       "dtype: int64"
      ]
     },
     "execution_count": 5,
     "metadata": {},
     "output_type": "execute_result"
    }
   ],
   "source": [
    "df.isnull().sum()"
   ]
  },
  {
   "cell_type": "code",
   "execution_count": 6,
   "id": "32b2b767-bf4b-4859-97ef-d70570096928",
   "metadata": {},
   "outputs": [],
   "source": [
    "#Clean spaces in column names\n",
    "df.columns = df.columns.str.strip()"
   ]
  },
  {
   "cell_type": "code",
   "execution_count": 7,
   "id": "838ca7d5-fa87-4c46-b0f5-e690aaa256bb",
   "metadata": {},
   "outputs": [],
   "source": [
    "#Clean spaces in categorical column values\n",
    "df['education'] = df['education'].str.strip()\n",
    "df['self_employed'] = df['self_employed'].str.strip()\n",
    "df['loan_status'] = df['loan_status'].str.strip()"
   ]
  },
  {
   "cell_type": "code",
   "execution_count": 8,
   "id": "532daf2e-b20c-4166-bc57-123186445a36",
   "metadata": {},
   "outputs": [],
   "source": [
    "# Convert target ['loan_status'] variable to binary\n",
    "df['loan_status'] = df['loan_status'].map({'Approved': 1, 'Rejected': 0})"
   ]
  },
  {
   "cell_type": "code",
   "execution_count": 9,
   "id": "7611519f-68d1-41bd-abb8-66f3fc2c43da",
   "metadata": {},
   "outputs": [
    {
     "name": "stdout",
     "output_type": "stream",
     "text": [
      "Null values in loan_status: 0\n"
     ]
    }
   ],
   "source": [
    "# Check if null values remain after mapping\n",
    "print(\"Null values in loan_status:\", df['loan_status'].isna().sum())"
   ]
  },
  {
   "cell_type": "code",
   "execution_count": 10,
   "id": "3726f6be-d6e6-4a2a-bb84-2cce3da20c47",
   "metadata": {},
   "outputs": [],
   "source": [
    "# Apply One-Hot Encoding to categorical variables (without a reference column)\n",
    "df = pd.get_dummies(df, columns=['education', 'self_employed'], drop_first=True)"
   ]
  },
  {
   "cell_type": "code",
   "execution_count": 11,
   "id": "ccbd2500-54bf-404f-bb68-4aa5c54bfbe0",
   "metadata": {},
   "outputs": [
    {
     "data": {
      "text/html": [
       "<div>\n",
       "<style scoped>\n",
       "    .dataframe tbody tr th:only-of-type {\n",
       "        vertical-align: middle;\n",
       "    }\n",
       "\n",
       "    .dataframe tbody tr th {\n",
       "        vertical-align: top;\n",
       "    }\n",
       "\n",
       "    .dataframe thead th {\n",
       "        text-align: right;\n",
       "    }\n",
       "</style>\n",
       "<table border=\"1\" class=\"dataframe\">\n",
       "  <thead>\n",
       "    <tr style=\"text-align: right;\">\n",
       "      <th></th>\n",
       "      <th>monthly_income</th>\n",
       "      <th>monthly_loan_payment</th>\n",
       "      <th>debt_to_income_ratio</th>\n",
       "      <th>luxury_asset_ratio</th>\n",
       "      <th>avg_asset_value</th>\n",
       "    </tr>\n",
       "  </thead>\n",
       "  <tbody>\n",
       "    <tr>\n",
       "      <th>0</th>\n",
       "      <td>800000.000000</td>\n",
       "      <td>2.491667e+06</td>\n",
       "      <td>3.114583</td>\n",
       "      <td>0.447732</td>\n",
       "      <td>12675000.0</td>\n",
       "    </tr>\n",
       "    <tr>\n",
       "      <th>1</th>\n",
       "      <td>341666.666667</td>\n",
       "      <td>1.525000e+06</td>\n",
       "      <td>4.463415</td>\n",
       "      <td>0.517647</td>\n",
       "      <td>4250000.0</td>\n",
       "    </tr>\n",
       "    <tr>\n",
       "      <th>2</th>\n",
       "      <td>758333.333333</td>\n",
       "      <td>1.485000e+06</td>\n",
       "      <td>1.958242</td>\n",
       "      <td>0.577123</td>\n",
       "      <td>14425000.0</td>\n",
       "    </tr>\n",
       "    <tr>\n",
       "      <th>3</th>\n",
       "      <td>683333.333333</td>\n",
       "      <td>3.837500e+06</td>\n",
       "      <td>5.615854</td>\n",
       "      <td>0.442125</td>\n",
       "      <td>13175000.0</td>\n",
       "    </tr>\n",
       "    <tr>\n",
       "      <th>4</th>\n",
       "      <td>816666.666667</td>\n",
       "      <td>1.210000e+06</td>\n",
       "      <td>1.481633</td>\n",
       "      <td>0.534545</td>\n",
       "      <td>13750000.0</td>\n",
       "    </tr>\n",
       "  </tbody>\n",
       "</table>\n",
       "</div>"
      ],
      "text/plain": [
       "   monthly_income  monthly_loan_payment  debt_to_income_ratio  \\\n",
       "0   800000.000000          2.491667e+06              3.114583   \n",
       "1   341666.666667          1.525000e+06              4.463415   \n",
       "2   758333.333333          1.485000e+06              1.958242   \n",
       "3   683333.333333          3.837500e+06              5.615854   \n",
       "4   816666.666667          1.210000e+06              1.481633   \n",
       "\n",
       "   luxury_asset_ratio  avg_asset_value  \n",
       "0            0.447732       12675000.0  \n",
       "1            0.517647        4250000.0  \n",
       "2            0.577123       14425000.0  \n",
       "3            0.442125       13175000.0  \n",
       "4            0.534545       13750000.0  "
      ]
     },
     "execution_count": 11,
     "metadata": {},
     "output_type": "execute_result"
    }
   ],
   "source": [
    "# --- ADVANCED FEATURE ENGINEERING ---\n",
    "\n",
    "# 1. Estimated monthly income\n",
    "df[\"monthly_income\"] = df[\"income_annum\"] / 12\n",
    "\n",
    "# 2. Monthly loan amount\n",
    "df[\"monthly_loan_payment\"] = df[\"loan_amount\"] / df[\"loan_term\"]\n",
    "\n",
    "# 3. Monthly payment-income ratio (monthly debt to monthly income)\n",
    "df[\"debt_to_income_ratio\"] = df[\"monthly_loan_payment\"] / df[\"monthly_income\"]\n",
    "\n",
    "# 4. Total luxury assets per total assets (risk of unnecessary spending) % of spend in luxury\n",
    "df[\"total_assets\"] = df[\"residential_assets_value\"]+ df[\"commercial_assets_value\"]+ df[\"luxury_assets_value\"] + df[\"bank_asset_value\"]\n",
    "df[\"luxury_asset_ratio\"] = df[\"luxury_assets_value\"] / df[\"total_assets\"]\n",
    "\n",
    "# 5. Average asset value (divided among the 4 categories)\n",
    "df[\"avg_asset_value\"] = df[\"total_assets\"] / 4\n",
    "\n",
    "# 6. CIBIL score range (numerical conversion to ordinal category)\n",
    "df[\"cibil_band\"] = pd.cut(df[\"cibil_score\"],\n",
    "                          bins=[0, 400, 600, 750, 900],\n",
    "                          labels=[\"Poor\", \"Fair\", \"Good\", \"Excellent\"])\n",
    "\n",
    "# 7. One-Hot Encoding of the New Ordinal Column\n",
    "df = pd.get_dummies(df, columns=[\"cibil_band\"], drop_first=True)\n",
    "\n",
    "# Show the new added columns\n",
    "df[[\n",
    "    \"monthly_income\",\n",
    "    \"monthly_loan_payment\",\n",
    "    \"debt_to_income_ratio\",\n",
    "    \"luxury_asset_ratio\",\n",
    "    \"avg_asset_value\"\n",
    "]].head()"
   ]
  },
  {
   "cell_type": "code",
   "execution_count": 12,
   "id": "4d091821-1e96-443e-b8aa-17e24ebbdc67",
   "metadata": {},
   "outputs": [
    {
     "data": {
      "text/html": [
       "<div>\n",
       "<style scoped>\n",
       "    .dataframe tbody tr th:only-of-type {\n",
       "        vertical-align: middle;\n",
       "    }\n",
       "\n",
       "    .dataframe tbody tr th {\n",
       "        vertical-align: top;\n",
       "    }\n",
       "\n",
       "    .dataframe thead th {\n",
       "        text-align: right;\n",
       "    }\n",
       "</style>\n",
       "<table border=\"1\" class=\"dataframe\">\n",
       "  <thead>\n",
       "    <tr style=\"text-align: right;\">\n",
       "      <th></th>\n",
       "      <th>monthly_income</th>\n",
       "      <th>monthly_loan_payment</th>\n",
       "      <th>debt_to_income_ratio</th>\n",
       "      <th>luxury_asset_ratio</th>\n",
       "      <th>avg_asset_value</th>\n",
       "    </tr>\n",
       "  </thead>\n",
       "  <tbody>\n",
       "    <tr>\n",
       "      <th>0</th>\n",
       "      <td>800000.00</td>\n",
       "      <td>2491666.67</td>\n",
       "      <td>3.11</td>\n",
       "      <td>0.448</td>\n",
       "      <td>12675000.0</td>\n",
       "    </tr>\n",
       "    <tr>\n",
       "      <th>1</th>\n",
       "      <td>341666.67</td>\n",
       "      <td>1525000.00</td>\n",
       "      <td>4.46</td>\n",
       "      <td>0.518</td>\n",
       "      <td>4250000.0</td>\n",
       "    </tr>\n",
       "    <tr>\n",
       "      <th>2</th>\n",
       "      <td>758333.33</td>\n",
       "      <td>1485000.00</td>\n",
       "      <td>1.96</td>\n",
       "      <td>0.577</td>\n",
       "      <td>14425000.0</td>\n",
       "    </tr>\n",
       "    <tr>\n",
       "      <th>3</th>\n",
       "      <td>683333.33</td>\n",
       "      <td>3837500.00</td>\n",
       "      <td>5.62</td>\n",
       "      <td>0.442</td>\n",
       "      <td>13175000.0</td>\n",
       "    </tr>\n",
       "    <tr>\n",
       "      <th>4</th>\n",
       "      <td>816666.67</td>\n",
       "      <td>1210000.00</td>\n",
       "      <td>1.48</td>\n",
       "      <td>0.535</td>\n",
       "      <td>13750000.0</td>\n",
       "    </tr>\n",
       "  </tbody>\n",
       "</table>\n",
       "</div>"
      ],
      "text/plain": [
       "   monthly_income  monthly_loan_payment  debt_to_income_ratio  \\\n",
       "0       800000.00            2491666.67                  3.11   \n",
       "1       341666.67            1525000.00                  4.46   \n",
       "2       758333.33            1485000.00                  1.96   \n",
       "3       683333.33            3837500.00                  5.62   \n",
       "4       816666.67            1210000.00                  1.48   \n",
       "\n",
       "   luxury_asset_ratio  avg_asset_value  \n",
       "0               0.448       12675000.0  \n",
       "1               0.518        4250000.0  \n",
       "2               0.577       14425000.0  \n",
       "3               0.442       13175000.0  \n",
       "4               0.535       13750000.0  "
      ]
     },
     "execution_count": 12,
     "metadata": {},
     "output_type": "execute_result"
    }
   ],
   "source": [
    "df[\"monthly_income\"] = df[\"monthly_income\"].round(2)\n",
    "df[\"monthly_loan_payment\"] = df[\"monthly_loan_payment\"].round(2)\n",
    "df[\"debt_to_income_ratio\"] = df[\"debt_to_income_ratio\"].round(2)\n",
    "df[\"luxury_asset_ratio\"] = df[\"luxury_asset_ratio\"].round(3)\n",
    "df[\"avg_asset_value\"] = df[\"avg_asset_value\"].round(2)\n",
    "\n",
    "## Display the first rows with formatted values\n",
    "\n",
    "df[[\n",
    "    \"monthly_income\",\n",
    "    \"monthly_loan_payment\",\n",
    "    \"debt_to_income_ratio\",\n",
    "    \"luxury_asset_ratio\",\n",
    "    \"avg_asset_value\"\n",
    "]].head()"
   ]
  },
  {
   "cell_type": "code",
   "execution_count": 13,
   "id": "ec6b4cee-abbc-47cd-ba0e-eb2b9680750a",
   "metadata": {},
   "outputs": [
    {
     "data": {
      "text/plain": [
       "['loan_id',\n",
       " 'no_of_dependents',\n",
       " 'income_annum',\n",
       " 'loan_amount',\n",
       " 'loan_term',\n",
       " 'cibil_score',\n",
       " 'residential_assets_value',\n",
       " 'commercial_assets_value',\n",
       " 'luxury_assets_value',\n",
       " 'bank_asset_value',\n",
       " 'loan_status',\n",
       " 'education_Not Graduate',\n",
       " 'self_employed_Yes',\n",
       " 'monthly_income',\n",
       " 'monthly_loan_payment',\n",
       " 'debt_to_income_ratio',\n",
       " 'total_assets',\n",
       " 'luxury_asset_ratio',\n",
       " 'avg_asset_value',\n",
       " 'cibil_band_Fair',\n",
       " 'cibil_band_Good',\n",
       " 'cibil_band_Excellent']"
      ]
     },
     "execution_count": 13,
     "metadata": {},
     "output_type": "execute_result"
    }
   ],
   "source": [
    "df.columns.tolist()"
   ]
  },
  {
   "cell_type": "code",
   "execution_count": 14,
   "id": "f870c224-3eb0-4d42-9837-59600d3825ce",
   "metadata": {},
   "outputs": [],
   "source": [
    "# Exclude columns that should not be used as input\n",
    "X = df.drop(columns=[\"loan_id\", \"loan_status\"])\n",
    "\n",
    "# target variable\n",
    "y = df[\"loan_status\"]"
   ]
  },
  {
   "cell_type": "code",
   "execution_count": 15,
   "id": "a931f20d-4792-4c45-aa7c-163c11ada1aa",
   "metadata": {},
   "outputs": [],
   "source": [
    "from sklearn.model_selection import train_test_split\n",
    "from sklearn.preprocessing import StandardScaler\n",
    "\n",
    "# Stratified Split\n",
    "X_train, X_test, y_train, y_test = train_test_split(\n",
    "    X, y, test_size=0.2, stratify=y, random_state=42)\n",
    "\n",
    "# Variable scaling \n",
    "scaler = StandardScaler()\n",
    "X_train_scaled = scaler.fit_transform(X_train)\n",
    "X_test_scaled = scaler.transform(X_test)"
   ]
  },
  {
   "cell_type": "code",
   "execution_count": 16,
   "id": "1241ba5a-857a-4cff-8d1a-8bd235f531d2",
   "metadata": {},
   "outputs": [
    {
     "name": "stdout",
     "output_type": "stream",
     "text": [
      "📊 Random Forest Report:\n",
      "\n",
      "              precision    recall  f1-score   support\n",
      "\n",
      "           0       1.00      0.99      0.99       323\n",
      "           1       0.99      1.00      1.00       531\n",
      "\n",
      "    accuracy                           1.00       854\n",
      "   macro avg       1.00      0.99      1.00       854\n",
      "weighted avg       1.00      1.00      1.00       854\n",
      "\n"
     ]
    },
    {
     "data": {
      "image/png": "[encoded data removed]",
      "text/plain": [
       "<Figure size 1000x600 with 1 Axes>"
      ]
     },
     "metadata": {},
     "output_type": "display_data"
    }
   ],
   "source": [
    "from sklearn.ensemble import RandomForestClassifier\n",
    "from sklearn.metrics import classification_report\n",
    "import pandas as pd\n",
    "import matplotlib.pyplot as plt\n",
    "import seaborn as sns\n",
    "\n",
    "\n",
    "# Train model\n",
    "rf = RandomForestClassifier(n_estimators=100, random_state=42)\n",
    "rf.fit(X_train, y_train)\n",
    "\n",
    "\n",
    "# Predictions\n",
    "y_pred = rf.predict(X_test)\n",
    "\n",
    "# Assessment\n",
    "print(\"📊 Random Forest Report:\\n\")\n",
    "print(classification_report(y_test, y_pred))\n",
    "\n",
    "# Importance of variables\n",
    "importances = pd.Series(rf.feature_importances_, index=X.columns)\n",
    "importances_sorted = importances.sort_values(ascending=False).head(15)\n",
    "\n",
    "\n",
    "# View\n",
    "plt.figure(figsize=(10, 6))\n",
    "sns.barplot(x=importances_sorted, y=importances_sorted.index)\n",
    "plt.title(\"Top 15 Feature Importances (Random Forest)\")\n",
    "plt.xlabel(\"Importance Score\")\n",
    "plt.ylabel(\"Features\")\n",
    "plt.tight_layout()\n",
    "plt.show()"
   ]
  },
  {
   "cell_type": "code",
   "execution_count": null,
   "id": "97b72f61-76ec-4265-9a61-f9f2a2054268",
   "metadata": {},
   "outputs": [],
   "source": []
  }
 ],
 "metadata": {
  "kernelspec": {
   "display_name": "new",
   "language": "python",
   "name": "new"
  },
  "language_info": {
   "codemirror_mode": {
    "name": "ipython",
    "version": 3
   },
   "file_extension": ".py",
   "mimetype": "text/x-python",
   "name": "python",
   "nbconvert_exporter": "python",
   "pygments_lexer": "ipython3",
   "version": "3.12.3"
  }
 },
 "nbformat": 4,
 "nbformat_minor": 5
}
